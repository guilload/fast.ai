{
 "cells": [
  {
   "cell_type": "code",
   "execution_count": 1,
   "metadata": {},
   "outputs": [],
   "source": [
    "import glob\n",
    "import json\n",
    "import os\n",
    "\n",
    "\n",
    "import numpy as np\n",
    "\n",
    "from matplotlib import pyplot as pltroot\n",
    "\n",
    "np.set_printoptions(precision=4, linewidth=100)\n",
    "\n",
    "\n",
    "ROOT = 'data/sample'"
   ]
  },
  {
   "cell_type": "code",
   "execution_count": 2,
   "metadata": {},
   "outputs": [
    {
     "name": "stderr",
     "output_type": "stream",
     "text": [
      "Using TensorFlow backend.\n"
     ]
    }
   ],
   "source": [
    "import utils\n",
    "reload(utils)\n",
    "\n",
    "from utils import plots"
   ]
  },
  {
   "cell_type": "code",
   "execution_count": 3,
   "metadata": {},
   "outputs": [],
   "source": [
    "batch_size=64\n",
    "\n",
    "import vgg16\n",
    "reload(vgg16)\n",
    "\n",
    "from vgg16 import Vgg16"
   ]
  },
  {
   "cell_type": "code",
   "execution_count": null,
   "metadata": {},
   "outputs": [
    {
     "name": "stdout",
     "output_type": "stream",
     "text": [
      "Found 16 images belonging to 2 classes.\n",
      "Found 8 images belonging to 2 classes.\n",
      "Epoch 1/1\n",
      "16/16 [==============================] - 85s - loss: 2.0642 - acc: 0.3125 - val_loss: 1.1029 - val_acc: 0.5000\n"
     ]
    }
   ],
   "source": [
    "vgg = Vgg16()\n",
    "\n",
    "training_batches = vgg.get_batches(os.path.join(ROOT, 'training'), batch_size=batch_size)\n",
    "validation_batches = vgg.get_batches(os.path.join(ROOT, 'validation'), batch_size=batch_size * 2)\n",
    "                                \n",
    "vgg.finetune(training_batches)\n",
    "vgg.fit(training_batches, validation_batches, nb_epoch=1)"
   ]
  },
  {
   "cell_type": "code",
   "execution_count": null,
   "metadata": {},
   "outputs": [
    {
     "name": "stdout",
     "output_type": "stream",
     "text": [
      "Found 100 images belonging to 1 classes.\n"
     ]
    }
   ],
   "source": [
    "_, scores = vgg.test(os.path.join(ROOT, 'test'), batch_size=batch_size)"
   ]
  },
  {
   "cell_type": "code",
   "execution_count": null,
   "metadata": {},
   "outputs": [],
   "source": [
    "with open('submisson.csv', 'r') as f:\n",
    "    for i, vector in enumerate(scores):\n",
    "        f.write('{},{}\\n'.format(i + 1, vector[1]))"
   ]
  }
 ],
 "metadata": {
  "kernelspec": {
   "display_name": "Python 2",
   "language": "python",
   "name": "python2"
  },
  "language_info": {
   "codemirror_mode": {
    "name": "ipython",
    "version": 2
   },
   "file_extension": ".py",
   "mimetype": "text/x-python",
   "name": "python",
   "nbconvert_exporter": "python",
   "pygments_lexer": "ipython2",
   "version": "2.7.14"
  }
 },
 "nbformat": 4,
 "nbformat_minor": 2
}
